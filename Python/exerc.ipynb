{
 "cells": [
  {
   "cell_type": "markdown",
   "metadata": {},
   "source": [
    "Enunciado\n",
    "Crie uma classe Funcionario cujos atributos são nome e e-mail. Guarde as horas trabalhadas em um dicionário cujas chaves são o mês em questão e, em outro dicionário, guarde o salário por hora relativo ao mês em questão. Crie um método que retorna o salário mensal do funcionário."
   ]
  },
  {
   "cell_type": "code",
   "execution_count": 8,
   "metadata": {},
   "outputs": [
    {
     "name": "stdout",
     "output_type": "stream",
     "text": [
      "Nome funcionário edson email funcionário edson@eds.com\n",
      "{'Jan': 220, 'Fev': 220, 'Mar': 220}\n",
      "{'Jan': 10.7, 'Fev': 10.7, 'Mar': 10.7}\n",
      "O salario referente ao mês de Jan é R$2354.0\n"
     ]
    }
   ],
   "source": [
    "class Funcionarios():\n",
    "    def __init__(self, nome,email):\n",
    "        self.nome = nome\n",
    "        self.email = email\n",
    "        self.horas = {}\n",
    "        self.salario = {}\n",
    "    \n",
    "    def salarioMes(self,mes,salario):\n",
    "        if (mes not in self.salario):\n",
    "            self.salario[mes] = salario\n",
    "            \n",
    "    def horasMes(self,mes,horas):\n",
    "        if (mes not in self.horas):\n",
    "            self.horas[mes] = horas\n",
    "    \n",
    "    def __repr__(self):\n",
    "        return f'Nome funcionário {self.nome} email funcionário {self.email}'\n",
    "    def totalSalarioMes(self,mes):\n",
    "        salarioMes = self.salario[mes] * self.horas[mes]\n",
    "        return f'O salario referente ao mês de {mes} é R${salarioMes}'\n",
    "    \n",
    "            \n",
    "func = Funcionarios('edson','edson@eds.com')        \n",
    "func.salarioMes('Jan',10.70)\n",
    "func.horasMes('Jan',220)\n",
    "func.salarioMes('Fev',10.70)\n",
    "func.horasMes('Fev',220)\n",
    "func.salarioMes('Mar',10.70)\n",
    "func.horasMes('Mar',220)\n",
    "print(func)\n",
    "print(func.horas)\n",
    "print(func.salario)\n",
    "print(func.totalSalarioMes('Jan'))\n",
    "\n",
    "\n",
    "\n",
    "\n",
    "        "
   ]
  },
  {
   "cell_type": "markdown",
   "metadata": {},
   "source": [
    "Enunciado\n",
    "O módulo time possui a função time.sleep(x), que faz seu programa “dormir” por x segundos. Utilizando essa função, crie uma classe Cronômetro e faça um programa que cronometre o tempo."
   ]
  },
  {
   "cell_type": "code",
   "execution_count": 4,
   "metadata": {},
   "outputs": [
    {
     "name": "stdout",
     "output_type": "stream",
     "text": [
      "\u001b[H\u001b[2J0:0:0\n",
      "\u001b[H\u001b[2J0:0:1\n",
      "\u001b[H\u001b[2J0:0:2\n",
      "\u001b[H\u001b[2J0:0:3\n",
      "\u001b[H\u001b[2J0:0:4\n",
      "\u001b[H\u001b[2J0:0:5\n",
      "\u001b[H\u001b[2J0:0:6\n",
      "\u001b[H\u001b[2J0:0:7\n",
      "\u001b[H\u001b[2J0:0:8\n",
      "\u001b[H\u001b[2J0:0:9\n",
      "\u001b[H\u001b[2J0:0:10\n",
      "\u001b[H\u001b[2J0:0:11\n",
      "\u001b[H\u001b[2J0:0:12\n",
      "\u001b[H\u001b[2J0:0:13\n",
      "\u001b[H\u001b[2J0:0:14\n",
      "\u001b[H\u001b[2J0:0:15\n",
      "\u001b[H\u001b[2J0:0:16\n",
      "\u001b[H\u001b[2J0:0:17\n",
      "\u001b[H\u001b[2J0:0:18\n",
      "\u001b[H\u001b[2J0:0:19\n",
      "\u001b[H\u001b[2J0:0:20\n",
      "\u001b[H\u001b[2J0:0:21\n",
      "\u001b[H\u001b[2J0:0:22\n",
      "\u001b[H\u001b[2J0:0:23\n",
      "\u001b[H\u001b[2J0:0:24\n",
      "\u001b[H\u001b[2J0:0:25\n",
      "\u001b[H\u001b[2J0:0:26\n",
      "\u001b[H\u001b[2J0:0:27\n",
      "\u001b[H\u001b[2J0:0:28\n",
      "\u001b[H\u001b[2J0:0:29\n",
      "\u001b[H\u001b[2J0:0:30\n",
      "\u001b[H\u001b[2J0:0:31\n",
      "\u001b[H\u001b[2J0:0:32\n",
      "\u001b[H\u001b[2J0:0:33\n",
      "\u001b[H\u001b[2J0:0:34\n",
      "\u001b[H\u001b[2J0:0:35\n",
      "\u001b[H\u001b[2J0:0:36\n",
      "\u001b[H\u001b[2J0:0:37\n",
      "\u001b[H\u001b[2J0:0:38\n",
      "\u001b[H\u001b[2J0:0:39\n",
      "\u001b[H\u001b[2J0:0:40\n",
      "\u001b[H\u001b[2J0:0:41\n",
      "\u001b[H\u001b[2J0:0:42\n",
      "\u001b[H\u001b[2J0:0:43\n",
      "\u001b[H\u001b[2J0:0:44\n",
      "\u001b[H\u001b[2J0:0:45\n",
      "\u001b[H\u001b[2J0:0:46\n",
      "\u001b[H\u001b[2J0:0:47\n",
      "\u001b[H\u001b[2J0:0:48\n",
      "\u001b[H\u001b[2J0:0:49\n",
      "\u001b[H\u001b[2J0:0:50\n",
      "\u001b[H\u001b[2J0:0:51\n",
      "\u001b[H\u001b[2J0:0:52\n",
      "\u001b[H\u001b[2J0:0:53\n",
      "\u001b[H\u001b[2J0:0:54\n",
      "\u001b[H\u001b[2J0:0:55\n",
      "\u001b[H\u001b[2J0:0:56\n",
      "\u001b[H\u001b[2J0:0:57\n",
      "\u001b[H\u001b[2J0:0:58\n",
      "\u001b[H\u001b[2J0:0:59\n",
      "\u001b[H\u001b[2J0:0:60\n",
      "\u001b[H\u001b[2J0:1:0\n",
      "\u001b[H\u001b[2J0:1:1\n",
      "\u001b[H\u001b[2J0:1:2\n",
      "\u001b[H\u001b[2J0:1:3\n",
      "\u001b[H\u001b[2J0:1:4\n",
      "\u001b[H\u001b[2J0:1:5\n",
      "\u001b[H\u001b[2J0:1:6\n",
      "\u001b[H\u001b[2J0:1:7\n",
      "\u001b[H\u001b[2J0:1:8\n",
      "\u001b[H\u001b[2J0:1:9\n",
      "\u001b[H\u001b[2J0:1:10\n",
      "\u001b[H\u001b[2J0:1:11\n",
      "\u001b[H\u001b[2J0:1:12\n"
     ]
    },
    {
     "ename": "KeyboardInterrupt",
     "evalue": "",
     "output_type": "error",
     "traceback": [
      "\u001b[0;31m---------------------------------------------------------------------------\u001b[0m",
      "\u001b[0;31mKeyboardInterrupt\u001b[0m                         Traceback (most recent call last)",
      "\u001b[1;32m/home/edson/LetsCode/Python/exerc.ipynb Cell 4'\u001b[0m in \u001b[0;36m<module>\u001b[0;34m\u001b[0m\n\u001b[1;32m     <a href='vscode-notebook-cell:/home/edson/LetsCode/Python/exerc.ipynb#ch0000003?line=25'>26</a>\u001b[0m             time\u001b[39m.\u001b[39msleep(\u001b[39m0.5\u001b[39m)\n\u001b[1;32m     <a href='vscode-notebook-cell:/home/edson/LetsCode/Python/exerc.ipynb#ch0000003?line=27'>28</a>\u001b[0m crono \u001b[39m=\u001b[39m Cronometro()\n\u001b[0;32m---> <a href='vscode-notebook-cell:/home/edson/LetsCode/Python/exerc.ipynb#ch0000003?line=28'>29</a>\u001b[0m crono\u001b[39m.\u001b[39;49mstart()\n",
      "\u001b[1;32m/home/edson/LetsCode/Python/exerc.ipynb Cell 4'\u001b[0m in \u001b[0;36mCronometro.start\u001b[0;34m(self)\u001b[0m\n\u001b[1;32m     <a href='vscode-notebook-cell:/home/edson/LetsCode/Python/exerc.ipynb#ch0000003?line=23'>24</a>\u001b[0m \u001b[39mprint\u001b[39m(\u001b[39mself\u001b[39m)\n\u001b[1;32m     <a href='vscode-notebook-cell:/home/edson/LetsCode/Python/exerc.ipynb#ch0000003?line=24'>25</a>\u001b[0m \u001b[39mself\u001b[39m\u001b[39m.\u001b[39mtempo()\n\u001b[0;32m---> <a href='vscode-notebook-cell:/home/edson/LetsCode/Python/exerc.ipynb#ch0000003?line=25'>26</a>\u001b[0m time\u001b[39m.\u001b[39;49msleep(\u001b[39m0.5\u001b[39;49m)\n",
      "\u001b[0;31mKeyboardInterrupt\u001b[0m: "
     ]
    }
   ],
   "source": [
    "import time\n",
    "import os\n",
    "class Cronometro():\n",
    "    def __init__(self,horas = 0,minutos = 0,segundos = 0):\n",
    "        self.horas = horas\n",
    "        self.minutos = minutos\n",
    "        self.segundos = segundos\n",
    "    def tempo(self):\n",
    "        if self.segundos < 60:\n",
    "            self.segundos+=1\n",
    "        else:\n",
    "            self.segundos = 0\n",
    "            self.minutos += 1\n",
    "        if self.minutos > 60:\n",
    "            self.minutos = 0\n",
    "            self.horas += 1\n",
    "            \n",
    "    def __repr__(self):\n",
    "        return f'{self.horas}:{self.minutos}:{self.segundos}'\n",
    "    \n",
    "    def start (self):\n",
    "        while True :\n",
    "            os.system('clear')\n",
    "            print(self)\n",
    "            self.tempo()\n",
    "            time.sleep(0.5)\n",
    "            \n",
    "\n",
    "crono = Cronometro()\n",
    "crono.start()\n",
    "          \n",
    " "
   ]
  },
  {
   "cell_type": "markdown",
   "metadata": {},
   "source": [
    "Enunciado\n",
    "Crie uma classe Cliente cujos atributos são nome, idade e e-mail. Construa um método que imprima as informações tal como abaixo:"
   ]
  },
  {
   "cell_type": "code",
   "execution_count": 9,
   "metadata": {},
   "outputs": [
    {
     "name": "stdout",
     "output_type": "stream",
     "text": [
      " Nome : Edson\n",
      " Idade : 42\n",
      " E-mail : edson@edson.com.br\n"
     ]
    }
   ],
   "source": [
    "class Cliente:\n",
    "    def __init__ (self,nome,idade,email) :\n",
    "        self.nome = {nome:{'idade':idade,'E-mail':email}}\n",
    "        \n",
    "    def __repr__ (self):\n",
    "        for elemento in self.nome:\n",
    "            idade = self.nome[elemento]['idade']\n",
    "            email = self.nome[elemento]['E-mail']\n",
    "        return f' Nome : {elemento}\\n Idade : {idade}\\n E-mail : {email}'\n",
    "cliente = Cliente('Edson',42,'edson@edson.com.br')\n",
    "print(cliente)"
   ]
  },
  {
   "cell_type": "markdown",
   "metadata": {},
   "source": [
    "\n",
    "Vale\n",
    "10\n",
    "Enunciado\n",
    "Com base no exercício anterior, crie um sistema de cadastro e a classe Cliente. Seu programa deve perguntar se o usuário quer cadastrar um novo cliente, alterar um cadastro ou sair.\n",
    "\n",
    "Dica: Você pode fazer esse exercício criando uma classe Sistema, que irá controlar o sistema de cadastros. Essa classe deve ter o atributo cadastro e os métodos para imprimir os cadastrados, cadastrar um novo cliente, alterar um cadastro ou sair."
   ]
  },
  {
   "cell_type": "code",
   "execution_count": null,
   "metadata": {},
   "outputs": [],
   "source": [
    "class Cliente:\n",
    "    def __init__ (self,nome,idade,email) :\n",
    "        self.nome = {nome:{'idade':idade,'E-mail':email}}\n",
    "        \n",
    "    def __repr__ (self):\n",
    "        for elemento in self.nome:\n",
    "            idade = self.nome[elemento]['idade']\n",
    "            email = self.nome[elemento]['E-mail']\n",
    "        return f' Nome : {elemento}\\n Idade : {idade}\\n E-mail : {email}'\n",
    "class Sistema:\n",
    "    def __init__(self,opcao):\n",
    "        self.opcao = opcao\n",
    "    def incluir (self,nome,idade,email):\n",
    "        cliente = Cliente(nome,idade,email)\n",
    "    \n",
    "    \n",
    "    "
   ]
  }
 ],
 "metadata": {
  "interpreter": {
   "hash": "916dbcbb3f70747c44a77c7bcd40155683ae19c65e1c03b4aa3499c5328201f1"
  },
  "kernelspec": {
   "display_name": "Python 3.8.10 64-bit",
   "language": "python",
   "name": "python3"
  },
  "language_info": {
   "codemirror_mode": {
    "name": "ipython",
    "version": 3
   },
   "file_extension": ".py",
   "mimetype": "text/x-python",
   "name": "python",
   "nbconvert_exporter": "python",
   "pygments_lexer": "ipython3",
   "version": "3.8.10"
  },
  "orig_nbformat": 4
 },
 "nbformat": 4,
 "nbformat_minor": 2
}
